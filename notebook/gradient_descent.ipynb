{
 "cells": [
  {
   "cell_type": "code",
   "execution_count": 24,
   "metadata": {},
   "outputs": [],
   "source": [
    "import numpy as np\n",
    "import torch\n",
    "import torch.nn as nn\n",
    "from torchvision.datasets import MNIST\n",
    "from torchvision.transforms import ToTensor\n",
    "from torch.utils.data import DataLoader\n",
    "from torch import optim\n",
    "import matplotlib.pyplot as plt\n",
    "import copy\n"
   ]
  },
  {
   "cell_type": "code",
   "execution_count": 2,
   "metadata": {},
   "outputs": [
    {
     "data": {
      "text/plain": [
       "<torch._C.Generator at 0x1175f5df0>"
      ]
     },
     "execution_count": 2,
     "metadata": {},
     "output_type": "execute_result"
    }
   ],
   "source": [
    "# for reproducibility\n",
    "\n",
    "torch.manual_seed(1)"
   ]
  },
  {
   "cell_type": "code",
   "execution_count": 3,
   "metadata": {},
   "outputs": [],
   "source": [
    "# define feedforward neural network\n",
    "\n",
    "class Net(nn.Module):\n",
    "    def __init__(self, input_dim, feature_dim, out_dim):\n",
    "        super(Net, self).__init__()\n",
    "        self.classifier = nn.Sequential(\n",
    "            nn.Flatten(),\n",
    "            nn.Linear(input_dim, feature_dim),\n",
    "            nn.ReLU(),\n",
    "            nn.Linear(feature_dim, out_dim),\n",
    "            nn.ReLU()\n",
    "        )\n",
    "    \n",
    "    def forward(self, inputs):\n",
    "        return self.classifier(inputs)"
   ]
  },
  {
   "cell_type": "code",
   "execution_count": 4,
   "metadata": {},
   "outputs": [],
   "source": [
    "# load data\n",
    "\n",
    "train = MNIST(root='../data/mnist/demo/', train=True, transform=ToTensor(), download=True)\n",
    "test = MNIST(root='../data/mnist/demo/', train=False, transform=ToTensor(), download=True)"
   ]
  },
  {
   "cell_type": "code",
   "execution_count": 5,
   "metadata": {},
   "outputs": [],
   "source": [
    "train_loader = DataLoader(train, batch_size=64, shuffle=True)\n",
    "test_loader = DataLoader(test, batch_size=64, shuffle=False)"
   ]
  },
  {
   "cell_type": "code",
   "execution_count": 6,
   "metadata": {},
   "outputs": [
    {
     "data": {
      "text/plain": [
       "Net(\n",
       "  (classifier): Sequential(\n",
       "    (0): Flatten(start_dim=1, end_dim=-1)\n",
       "    (1): Linear(in_features=784, out_features=256, bias=True)\n",
       "    (2): ReLU()\n",
       "    (3): Linear(in_features=256, out_features=10, bias=True)\n",
       "    (4): ReLU()\n",
       "  )\n",
       ")"
      ]
     },
     "execution_count": 6,
     "metadata": {},
     "output_type": "execute_result"
    }
   ],
   "source": [
    "# load checkpoint from SGD\n",
    "\n",
    "in_dim, feature_dim, out_dim = 784, 256, 10\n",
    "lr = 1e-4\n",
    "loss_fn = nn.CrossEntropyLoss()\n",
    "num_epochs = 20\n",
    "classifier = Net(in_dim, feature_dim, out_dim)\n",
    "optimizer = optim.SGD(classifier.parameters(), lr=lr)\n",
    "classifier"
   ]
  },
  {
   "cell_type": "code",
   "execution_count": 7,
   "metadata": {},
   "outputs": [
    {
     "name": "stdout",
     "output_type": "stream",
     "text": [
      "Epoch 1 loss: 2.3046294684603272\n",
      "Epoch 2 loss: 2.2975979547764953\n",
      "Epoch 3 loss: 2.2907330453522934\n",
      "Epoch 4 loss: 2.283577099791976\n",
      "Epoch 5 loss: 2.275064650374943\n",
      "Epoch 6 loss: 2.264572544646924\n",
      "Epoch 7 loss: 2.2532858380885012\n",
      "Epoch 8 loss: 2.241703520705705\n",
      "Epoch 9 loss: 2.229530222888694\n",
      "Epoch 10 loss: 2.216832691164159\n",
      "Epoch 11 loss: 2.203674297597108\n",
      "Epoch 12 loss: 2.1902154551894424\n",
      "Epoch 13 loss: 2.17646878894204\n",
      "Epoch 14 loss: 2.162485155977928\n",
      "Epoch 15 loss: 2.148180947629119\n",
      "Epoch 16 loss: 2.133601605638004\n",
      "Epoch 17 loss: 2.1186788880240432\n",
      "Epoch 18 loss: 2.103463502835109\n",
      "Epoch 19 loss: 2.0880314295988347\n",
      "Epoch 20 loss: 2.072307128387728\n"
     ]
    }
   ],
   "source": [
    "for epoch in range(num_epochs):\n",
    "    running_loss = 0.0\n",
    "    for input, label in train_loader:\n",
    "        optimizer.zero_grad()\n",
    "        output = classifier(input)\n",
    "        loss = loss_fn(output, label)\n",
    "        loss.backward()\n",
    "        running_loss += loss.item()\n",
    "        optimizer.step()\n",
    "    print(f'Epoch {epoch+1} loss: {running_loss/len(train_loader)}')"
   ]
  },
  {
   "cell_type": "code",
   "execution_count": 8,
   "metadata": {},
   "outputs": [
    {
     "name": "stdout",
     "output_type": "stream",
     "text": [
      "Model's state_dict:\n",
      "classifier.1.weight \t torch.Size([256, 784])\n",
      "classifier.1.bias \t torch.Size([256])\n",
      "classifier.3.weight \t torch.Size([10, 256])\n",
      "classifier.3.bias \t torch.Size([10])\n"
     ]
    }
   ],
   "source": [
    "model = classifier\n",
    "print(\"Model's state_dict:\")\n",
    "for param_tensor in model.state_dict():\n",
    "    print(param_tensor, \"\\t\", model.state_dict()[param_tensor].size())"
   ]
  },
  {
   "cell_type": "code",
   "execution_count": 9,
   "metadata": {},
   "outputs": [],
   "source": [
    "# save state to a file checkpoint\n",
    "\n",
    "torch.save(model.state_dict(), '../model/mnist.pt')"
   ]
  },
  {
   "attachments": {},
   "cell_type": "markdown",
   "metadata": {},
   "source": [
    "# How Pesky Are Spurious Local Minima in Deep Networks?"
   ]
  },
  {
   "cell_type": "code",
   "execution_count": 10,
   "metadata": {},
   "outputs": [],
   "source": [
    "in_dim, feat_dim, out_dim = 784, 256, 10\n",
    "model = Net(in_dim, feat_dim, out_dim)"
   ]
  },
  {
   "cell_type": "code",
   "execution_count": 11,
   "metadata": {},
   "outputs": [
    {
     "data": {
      "text/plain": [
       "Net(\n",
       "  (classifier): Sequential(\n",
       "    (0): Flatten(start_dim=1, end_dim=-1)\n",
       "    (1): Linear(in_features=784, out_features=256, bias=True)\n",
       "    (2): ReLU()\n",
       "    (3): Linear(in_features=256, out_features=10, bias=True)\n",
       "    (4): ReLU()\n",
       "  )\n",
       ")"
      ]
     },
     "execution_count": 11,
     "metadata": {},
     "output_type": "execute_result"
    }
   ],
   "source": [
    "model"
   ]
  },
  {
   "cell_type": "code",
   "execution_count": 12,
   "metadata": {},
   "outputs": [
    {
     "data": {
      "text/plain": [
       "<All keys matched successfully>"
      ]
     },
     "execution_count": 12,
     "metadata": {},
     "output_type": "execute_result"
    }
   ],
   "source": [
    "model.load_state_dict(torch.load('../model/mnist.pt'))"
   ]
  },
  {
   "cell_type": "code",
   "execution_count": 14,
   "metadata": {},
   "outputs": [],
   "source": [
    "# access parameter with state_dict\n",
    "\n",
    "opt_state_dict = copy.deepcopy(model.state_dict()) # copy dictionary with it's value"
   ]
  },
  {
   "cell_type": "code",
   "execution_count": 15,
   "metadata": {},
   "outputs": [
    {
     "data": {
      "text/plain": [
       "OrderedDict([('classifier.1.weight',\n",
       "              tensor([[ 0.0184, -0.0158, -0.0069,  ...,  0.0068, -0.0041,  0.0025],\n",
       "                      [-0.0274, -0.0224, -0.0309,  ..., -0.0029,  0.0013, -0.0167],\n",
       "                      [ 0.0282, -0.0095, -0.0340,  ..., -0.0141,  0.0056, -0.0335],\n",
       "                      ...,\n",
       "                      [ 0.0192,  0.0144, -0.0119,  ...,  0.0232,  0.0299, -0.0147],\n",
       "                      [-0.0241,  0.0189,  0.0124,  ..., -0.0007, -0.0108,  0.0064],\n",
       "                      [-0.0337, -0.0356,  0.0058,  ...,  0.0089, -0.0317,  0.0223]])),\n",
       "             ('classifier.1.bias',\n",
       "              tensor([ 0.0087, -0.0260,  0.0320, -0.0097,  0.0243, -0.0049,  0.0263,  0.0194,\n",
       "                       0.0174,  0.0254, -0.0321, -0.0045, -0.0069,  0.0195, -0.0337,  0.0275,\n",
       "                      -0.0094,  0.0134, -0.0006, -0.0144, -0.0081,  0.0364,  0.0064,  0.0126,\n",
       "                      -0.0043,  0.0205,  0.0046, -0.0138, -0.0270, -0.0068,  0.0090, -0.0122,\n",
       "                      -0.0138,  0.0368,  0.0218,  0.0002,  0.0012,  0.0254, -0.0204,  0.0363,\n",
       "                       0.0182,  0.0101, -0.0002,  0.0083,  0.0030, -0.0118, -0.0029, -0.0156,\n",
       "                      -0.0117,  0.0015, -0.0100,  0.0014,  0.0126, -0.0218, -0.0338,  0.0271,\n",
       "                       0.0203, -0.0180,  0.0258, -0.0114,  0.0220,  0.0062, -0.0073,  0.0304,\n",
       "                      -0.0034, -0.0243, -0.0118, -0.0128,  0.0364, -0.0049, -0.0131, -0.0204,\n",
       "                      -0.0039,  0.0159, -0.0042,  0.0030,  0.0328,  0.0197,  0.0123, -0.0169,\n",
       "                      -0.0218,  0.0233,  0.0334, -0.0298, -0.0062, -0.0059, -0.0257, -0.0092,\n",
       "                       0.0153,  0.0231, -0.0336, -0.0345,  0.0021,  0.0181, -0.0298, -0.0266,\n",
       "                      -0.0040, -0.0325, -0.0303,  0.0080, -0.0029,  0.0030,  0.0292, -0.0273,\n",
       "                       0.0133, -0.0170, -0.0045,  0.0225,  0.0219, -0.0017,  0.0083,  0.0324,\n",
       "                       0.0132,  0.0186,  0.0296,  0.0157,  0.0213,  0.0197, -0.0183, -0.0041,\n",
       "                      -0.0300,  0.0195,  0.0011, -0.0171,  0.0015,  0.0150, -0.0108,  0.0003,\n",
       "                      -0.0272,  0.0142,  0.0095,  0.0183,  0.0047, -0.0112, -0.0175, -0.0303,\n",
       "                      -0.0258,  0.0134,  0.0069,  0.0010, -0.0098, -0.0056, -0.0261,  0.0098,\n",
       "                      -0.0037,  0.0306, -0.0089, -0.0035, -0.0181,  0.0254, -0.0188,  0.0217,\n",
       "                       0.0279, -0.0111, -0.0064, -0.0022,  0.0166,  0.0282,  0.0362, -0.0075,\n",
       "                       0.0203,  0.0115, -0.0138, -0.0326, -0.0100,  0.0336,  0.0202,  0.0241,\n",
       "                       0.0137, -0.0085, -0.0017,  0.0285, -0.0238,  0.0030,  0.0337,  0.0038,\n",
       "                       0.0323, -0.0122,  0.0002,  0.0128, -0.0137,  0.0133,  0.0050,  0.0137,\n",
       "                      -0.0063, -0.0128, -0.0061,  0.0072,  0.0013,  0.0291,  0.0306,  0.0091,\n",
       "                      -0.0212, -0.0284, -0.0054,  0.0314,  0.0260,  0.0262, -0.0030,  0.0378,\n",
       "                       0.0406,  0.0010,  0.0176, -0.0119, -0.0347, -0.0186,  0.0111, -0.0095,\n",
       "                      -0.0096,  0.0200,  0.0308,  0.0372,  0.0009,  0.0325, -0.0087, -0.0021,\n",
       "                      -0.0030, -0.0245,  0.0016, -0.0185,  0.0195,  0.0121,  0.0079, -0.0106,\n",
       "                       0.0101, -0.0163, -0.0179, -0.0158, -0.0024, -0.0151, -0.0277, -0.0274,\n",
       "                       0.0329, -0.0289,  0.0009, -0.0060, -0.0191,  0.0272,  0.0223,  0.0351,\n",
       "                      -0.0134, -0.0116,  0.0337,  0.0222, -0.0012,  0.0278, -0.0162,  0.0276,\n",
       "                       0.0058,  0.0210, -0.0023, -0.0209,  0.0294,  0.0317,  0.0048, -0.0047])),\n",
       "             ('classifier.3.weight',\n",
       "              tensor([[ 0.0687, -0.0172,  0.0374,  ...,  0.0345, -0.0666, -0.0523],\n",
       "                      [-0.0536,  0.0371, -0.0489,  ..., -0.0181,  0.0212, -0.0216],\n",
       "                      [-0.0270, -0.0387,  0.0377,  ...,  0.0476,  0.0262, -0.0383],\n",
       "                      ...,\n",
       "                      [-0.0076, -0.0033, -0.0158,  ..., -0.0310, -0.0104,  0.0106],\n",
       "                      [ 0.0043, -0.0370,  0.0407,  ..., -0.0025, -0.0648,  0.0419],\n",
       "                      [-0.0324,  0.0019,  0.0600,  ...,  0.0056, -0.0028,  0.0373]])),\n",
       "             ('classifier.3.bias',\n",
       "              tensor([ 0.0609, -0.0583,  0.0146,  0.0342, -0.0098,  0.0506,  0.0452, -0.0599,\n",
       "                       0.0340, -0.0163]))])"
      ]
     },
     "execution_count": 15,
     "metadata": {},
     "output_type": "execute_result"
    }
   ],
   "source": [
    "opt_state_dict"
   ]
  },
  {
   "cell_type": "code",
   "execution_count": 16,
   "metadata": {},
   "outputs": [
    {
     "name": "stdout",
     "output_type": "stream",
     "text": [
      "classifier.1.weight \t torch.Size([256, 784])\n",
      "classifier.1.bias \t torch.Size([256])\n",
      "classifier.3.weight \t torch.Size([10, 256])\n",
      "classifier.3.bias \t torch.Size([10])\n"
     ]
    }
   ],
   "source": [
    "for params in opt_state_dict:\n",
    "    print(params, '\\t', opt_state_dict[params].size())"
   ]
  },
  {
   "cell_type": "code",
   "execution_count": 17,
   "metadata": {},
   "outputs": [],
   "source": [
    "# Create randomly initialized network\n",
    "\n",
    "model = Net(in_dim, feat_dim, out_dim)\n",
    "rand_state_dict = copy.deepcopy(model.state_dict())"
   ]
  },
  {
   "cell_type": "code",
   "execution_count": 18,
   "metadata": {},
   "outputs": [],
   "source": [
    "# construct linear interpolation using mixing parameter alpha and beta\n",
    "# new state dict for interpolated parameters\n",
    "\n",
    "test_model = Net(in_dim, feat_dim, out_dim)\n",
    "test_state_dict = copy.deepcopy(test_model.state_dict())\n",
    "\n",
    "alpha = 0.2\n",
    "beta = 1.0 - alpha\n",
    "for p in opt_state_dict:\n",
    "    test_state_dict[p] = alpha * opt_state_dict[p] + beta * rand_state_dict[p]"
   ]
  },
  {
   "cell_type": "code",
   "execution_count": 19,
   "metadata": {},
   "outputs": [],
   "source": [
    "# average loss over the entire test set using the interpolated parameters\n",
    "\n",
    "def inference(test_loader, model, loss_fn):\n",
    "    running_loss = 0.0\n",
    "    with torch.no_grad():\n",
    "        for input, label in test_loader:\n",
    "            output = model(input)\n",
    "            loss = loss_fn(output, label)\n",
    "            running_loss += loss\n",
    "    running_loss /= len(test_loader)\n",
    "    return running_loss\n"
   ]
  },
  {
   "cell_type": "code",
   "execution_count": 20,
   "metadata": {},
   "outputs": [
    {
     "data": {
      "text/plain": [
       "torch.Size([256, 784])"
      ]
     },
     "execution_count": 20,
     "metadata": {},
     "output_type": "execute_result"
    }
   ],
   "source": [
    "opt_state_dict['classifier.1.weight'].size()"
   ]
  },
  {
   "cell_type": "code",
   "execution_count": 21,
   "metadata": {},
   "outputs": [
    {
     "data": {
      "text/plain": [
       "tensor(0.0184)"
      ]
     },
     "execution_count": 21,
     "metadata": {},
     "output_type": "execute_result"
    }
   ],
   "source": [
    "opt_state_dict['classifier.1.weight'][0][0]"
   ]
  },
  {
   "cell_type": "code",
   "execution_count": 22,
   "metadata": {},
   "outputs": [
    {
     "name": "stdout",
     "output_type": "stream",
     "text": [
      "alpha: -2.00, loss: 2.40\n",
      "alpha: -1.95, loss: 2.39\n",
      "alpha: -1.90, loss: 2.38\n",
      "alpha: -1.85, loss: 2.38\n",
      "alpha: -1.80, loss: 2.37\n",
      "alpha: -1.75, loss: 2.36\n",
      "alpha: -1.70, loss: 2.35\n",
      "alpha: -1.65, loss: 2.35\n",
      "alpha: -1.60, loss: 2.34\n",
      "alpha: -1.55, loss: 2.34\n",
      "alpha: -1.50, loss: 2.33\n",
      "alpha: -1.45, loss: 2.33\n",
      "alpha: -1.40, loss: 2.33\n",
      "alpha: -1.35, loss: 2.32\n",
      "alpha: -1.30, loss: 2.32\n",
      "alpha: -1.25, loss: 2.32\n",
      "alpha: -1.20, loss: 2.32\n",
      "alpha: -1.15, loss: 2.31\n",
      "alpha: -1.10, loss: 2.31\n",
      "alpha: -1.05, loss: 2.31\n",
      "alpha: -1.00, loss: 2.31\n",
      "alpha: -0.95, loss: 2.31\n",
      "alpha: -0.90, loss: 2.31\n",
      "alpha: -0.85, loss: 2.31\n",
      "alpha: -0.80, loss: 2.31\n",
      "alpha: -0.75, loss: 2.31\n",
      "alpha: -0.70, loss: 2.31\n",
      "alpha: -0.65, loss: 2.31\n",
      "alpha: -0.60, loss: 2.31\n",
      "alpha: -0.55, loss: 2.31\n",
      "alpha: -0.50, loss: 2.31\n",
      "alpha: -0.45, loss: 2.31\n",
      "alpha: -0.40, loss: 2.31\n",
      "alpha: -0.35, loss: 2.31\n",
      "alpha: -0.30, loss: 2.31\n",
      "alpha: -0.25, loss: 2.31\n",
      "alpha: -0.20, loss: 2.31\n",
      "alpha: -0.15, loss: 2.31\n",
      "alpha: -0.10, loss: 2.31\n",
      "alpha: -0.05, loss: 2.31\n",
      "alpha: 0.00, loss: 2.31\n",
      "alpha: 0.05, loss: 2.31\n",
      "alpha: 0.10, loss: 2.30\n",
      "alpha: 0.15, loss: 2.30\n",
      "alpha: 0.20, loss: 2.30\n",
      "alpha: 0.25, loss: 2.30\n",
      "alpha: 0.30, loss: 2.29\n",
      "alpha: 0.35, loss: 2.28\n",
      "alpha: 0.40, loss: 2.27\n",
      "alpha: 0.45, loss: 2.26\n",
      "alpha: 0.50, loss: 2.25\n",
      "alpha: 0.55, loss: 2.23\n",
      "alpha: 0.60, loss: 2.22\n",
      "alpha: 0.65, loss: 2.20\n",
      "alpha: 0.70, loss: 2.18\n",
      "alpha: 0.75, loss: 2.16\n",
      "alpha: 0.80, loss: 2.14\n",
      "alpha: 0.85, loss: 2.12\n",
      "alpha: 0.90, loss: 2.11\n",
      "alpha: 0.95, loss: 2.08\n",
      "alpha: 1.00, loss: 2.06\n",
      "alpha: 1.05, loss: 2.04\n",
      "alpha: 1.10, loss: 2.02\n",
      "alpha: 1.15, loss: 2.00\n",
      "alpha: 1.20, loss: 1.98\n",
      "alpha: 1.25, loss: 1.96\n",
      "alpha: 1.30, loss: 1.94\n",
      "alpha: 1.35, loss: 1.92\n",
      "alpha: 1.40, loss: 1.90\n",
      "alpha: 1.45, loss: 1.88\n",
      "alpha: 1.50, loss: 1.87\n",
      "alpha: 1.55, loss: 1.85\n",
      "alpha: 1.60, loss: 1.83\n",
      "alpha: 1.65, loss: 1.82\n",
      "alpha: 1.70, loss: 1.81\n",
      "alpha: 1.75, loss: 1.80\n",
      "alpha: 1.80, loss: 1.79\n",
      "alpha: 1.85, loss: 1.78\n",
      "alpha: 1.90, loss: 1.77\n",
      "alpha: 1.95, loss: 1.77\n"
     ]
    }
   ],
   "source": [
    "# vary value of alpha to understand how error surface changes as we traverse the line between randomlly initialized and optimized parameters\n",
    "\n",
    "results = []\n",
    "for alpha in torch.arange(-2, 2, 0.05):\n",
    "    beta = 1.0 - alpha\n",
    "\n",
    "    # compute interpolated parameters\n",
    "    for p in opt_state_dict:\n",
    "        test_state_dict[p] = alpha * opt_state_dict[p] + beta * rand_state_dict[p]\n",
    "    \n",
    "    # load interpolated parameters into test model\n",
    "    model.load_state_dict(test_state_dict)\n",
    "\n",
    "    # compute loss\n",
    "    loss = inference(train_loader, model, loss_fn)\n",
    "    results.append(loss.item())\n",
    "    print(f'alpha: {alpha:.2f}, loss: {loss:.2f}')\n",
    "    "
   ]
  },
  {
   "cell_type": "code",
   "execution_count": 25,
   "metadata": {},
   "outputs": [
    {
     "data": {
      "image/png": "[encoded data removed]",
      "text/plain": [
       "<Figure size 640x480 with 1 Axes>"
      ]
     },
     "metadata": {},
     "output_type": "display_data"
    }
   ],
   "source": [
    "plt.plot(np.arange(-2, 2, 0.05), results, 'ro')\n",
    "plt.xlabel('alpha')\n",
    "plt.ylabel('loss')\n",
    "plt.show()"
   ]
  },
  {
   "cell_type": "code",
   "execution_count": null,
   "metadata": {},
   "outputs": [],
   "source": []
  }
 ],
 "metadata": {
  "kernelspec": {
   "display_name": "env_dl",
   "language": "python",
   "name": "python3"
  },
  "language_info": {
   "codemirror_mode": {
    "name": "ipython",
    "version": 3
   },
   "file_extension": ".py",
   "mimetype": "text/x-python",
   "name": "python",
   "nbconvert_exporter": "python",
   "pygments_lexer": "ipython3",
   "version": "3.11.3"
  },
  "orig_nbformat": 4
 },
 "nbformat": 4,
 "nbformat_minor": 2
}
