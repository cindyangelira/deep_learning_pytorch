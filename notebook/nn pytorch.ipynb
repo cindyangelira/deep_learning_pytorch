{
 "cells": [
  {
   "attachments": {},
   "cell_type": "markdown",
   "metadata": {},
   "source": [
    "# Pytorch Dataset and Dataloader"
   ]
  },
  {
   "cell_type": "code",
   "execution_count": 8,
   "metadata": {},
   "outputs": [],
   "source": [
    "import os\n",
    "import numpy as np\n",
    "import pandas as pd\n",
    "import torch\n",
    "from PIL import Image\n",
    "from torchvision import transforms\n",
    "from torch.utils.data import Dataset, DataLoader\n",
    "import torch.nn as nn"
   ]
  },
  {
   "attachments": {},
   "cell_type": "markdown",
   "metadata": {},
   "source": [
    "## Data Loader"
   ]
  },
  {
   "cell_type": "code",
   "execution_count": 2,
   "metadata": {},
   "outputs": [],
   "source": [
    "class ImageDataset(Dataset):\n",
    "    def __init__(self, img_dir, label_file):\n",
    "        super(ImageDataset, self).__init__()\n",
    "        self.img_dir = img_dir\n",
    "        self.labels = torch.tensor(np.load(label_file, allow_pickle=True))\n",
    "        self.transform = transforms.ToTensor()\n",
    "\n",
    "    def __getitem__(self, index):\n",
    "        img_path = os.path.join(self.img_dir, \"img_{}.jpg\".format(index))\n",
    "        img = Image.open(img_path)\n",
    "        img = self.transform(img).flatten()\n",
    "        label = self.labels[index]\n",
    "        return {\"data\": img, \"label\": label}\n",
    "    \n",
    "    def __len__(self):\n",
    "        return len(self.labels)"
   ]
  },
  {
   "attachments": {},
   "cell_type": "markdown",
   "metadata": {},
   "source": [
    "## Base Classifier"
   ]
  },
  {
   "cell_type": "code",
   "execution_count": 9,
   "metadata": {},
   "outputs": [],
   "source": [
    "class BaseClassifier(nn.Module):\n",
    "    def __init__(self, in_dim, feature_dim, out_dim):\n",
    "        super(BaseClassifier, self).__init__()\n",
    "        self.layer1 = nn.Linear(in_dim, feature_dim, bias=True)\n",
    "        self.layer2 = nn.Linear(feature_dim, out_dim, bias=True)\n",
    "        self.relu = nn.ReLU()\n",
    "\n",
    "    def forward(self, x):\n",
    "        x = self.relu(self.layer1(x))\n",
    "        out = self.layer2(x)\n",
    "        return out"
   ]
  },
  {
   "cell_type": "code",
   "execution_count": 4,
   "metadata": {},
   "outputs": [],
   "source": [
    "train_dataset = ImageDataset(img_dir='../data/train/', label_file='../data/train/labels.npy')"
   ]
  },
  {
   "cell_type": "code",
   "execution_count": 5,
   "metadata": {},
   "outputs": [],
   "source": [
    "train_loader = DataLoader(train_dataset, batch_size=32, shuffle=True)"
   ]
  },
  {
   "cell_type": "code",
   "execution_count": 7,
   "metadata": {},
   "outputs": [
    {
     "name": "stdout",
     "output_type": "stream",
     "text": [
      "tensor([[0., 0., 0.,  ..., 0., 0., 0.],\n",
      "        [0., 0., 0.,  ..., 0., 0., 0.],\n",
      "        [0., 0., 0.,  ..., 0., 0., 0.],\n",
      "        [0., 0., 0.,  ..., 0., 0., 0.]])\n",
      "tensor([4, 1, 0, 2])\n",
      "torch.Size([4, 784])\n",
      "torch.Size([4])\n"
     ]
    }
   ],
   "source": [
    "for minibatch in train_loader:\n",
    "    data, labels  = minibatch['data'], minibatch['label']\n",
    "    print(data)\n",
    "    print(labels)\n",
    "    print(data.shape)\n",
    "    print(labels.shape)"
   ]
  },
  {
   "cell_type": "code",
   "execution_count": 10,
   "metadata": {},
   "outputs": [],
   "source": [
    "in_dim, feature_dim, out_dim = 784, 256, 10\n",
    "model = BaseClassifier(in_dim, feature_dim, out_dim)"
   ]
  },
  {
   "cell_type": "code",
   "execution_count": 12,
   "metadata": {},
   "outputs": [
    {
     "name": "stdout",
     "output_type": "stream",
     "text": [
      "tensor([[-0.0224, -0.0326, -0.0444, -0.0704,  0.1105, -0.0080, -0.0301,  0.0618,\n",
      "          0.1142,  0.0358],\n",
      "        [-0.0235, -0.0535, -0.1066, -0.0811,  0.1001,  0.0094,  0.0218,  0.0472,\n",
      "          0.0441, -0.0208],\n",
      "        [-0.0206,  0.0057, -0.0249, -0.1202,  0.1036,  0.0367, -0.0051,  0.0922,\n",
      "          0.0828,  0.0420],\n",
      "        [-0.0220, -0.1081, -0.0067,  0.0154,  0.0651,  0.0040, -0.0612,  0.0133,\n",
      "          0.0449, -0.0470]], grad_fn=<AddmmBackward0>)\n"
     ]
    }
   ],
   "source": [
    "for minibatch in train_loader:\n",
    "    data, labels  = minibatch['data'], minibatch['label']\n",
    "    out =  model(data)\n",
    "    print(out)"
   ]
  }
 ],
 "metadata": {
  "kernelspec": {
   "display_name": "env_dl",
   "language": "python",
   "name": "python3"
  },
  "language_info": {
   "codemirror_mode": {
    "name": "ipython",
    "version": 3
   },
   "file_extension": ".py",
   "mimetype": "text/x-python",
   "name": "python",
   "nbconvert_exporter": "python",
   "pygments_lexer": "ipython3",
   "version": "3.11.3"
  },
  "orig_nbformat": 4
 },
 "nbformat": 4,
 "nbformat_minor": 2
}
